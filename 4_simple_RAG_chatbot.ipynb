{
 "cells": [
  {
   "cell_type": "markdown",
   "metadata": {},
   "source": [
    "# RAG using chat\n",
    "\n",
    "Let's make a class that handles the conversation and accepts a document as well:"
   ]
  },
  {
   "cell_type": "code",
   "execution_count": 14,
   "metadata": {},
   "outputs": [],
   "source": [
    "from openai import OpenAI\n",
    "from pypdf import PdfReader\n",
    "\n",
    "class CustomChat():\n",
    "    def __init__(self, system_input:str, rag_doc:str) -> None:\n",
    "        self.client = OpenAI(base_url=\"http://localhost:1234/v1\", api_key=\"lm-studio\")\n",
    "        self.conversation = [{\"role\": \"system\", \"content\": system_input}]\n",
    "        self.process_system_prompt(rag_doc)\n",
    "    \n",
    "    def process_system_prompt(self, rag_doc):\n",
    "        self.conversation[0][\"content\"] += \" Context: \" + rag_doc\n",
    "    \n",
    "    def add_response(self, assistant_response:str):\n",
    "        self.conversation.append({\"role\": \"assistant\", \"content\": assistant_response})\n",
    "    \n",
    "    def add_user_prompt(self, user_input:str):\n",
    "        self.conversation.append({\"role\": \"user\", \"content\": user_input})\n",
    "    \n",
    "    def prompt(self, user_input:str, temperature=0.7):\n",
    "        self.add_user_prompt(user_input)\n",
    "        \n",
    "        response = self.client.chat.completions.create(\n",
    "            model=\"local-model\", # this field is currently unused\n",
    "            messages=self.conversation,\n",
    "            temperature=temperature,\n",
    "        ).choices[0].message.content\n",
    "        \n",
    "        self.add_response(response)\n",
    "        \n",
    "        return response\n",
    "\n",
    "import pdfx\n",
    "from re import compile\n",
    "\n",
    "regex_spaces = compile(r\"  +\")\n",
    "\n",
    "def get_pdf_text(pdf_filepath):\n",
    "    pdf = pdfx.PDFx(pdf_filepath)\n",
    "    \n",
    "    text = pdf.get_text()\n",
    "    text = text.replace(\"\\n\", \" \")\n",
    "    text = regex_spaces.sub(\" \", text)\n",
    "    if pdf.get_references():\n",
    "        text += \" references: \" + str(pdf.get_references_as_dict())\n",
    "    \n",
    "    return text"
   ]
  },
  {
   "cell_type": "code",
   "execution_count": 16,
   "metadata": {},
   "outputs": [
    {
     "name": "stdout",
     "output_type": "stream",
     "text": [
      " Oh, Sebastiaan! I just love that name. It's like a mix of the most interesting words in the English language: \"Sebastian\" sounds like an epic hero who saves the day, but with a modern twist - he's not named after King Sebastian of Spain or Portugal, but rather someone who knows how to code and make art!\n",
      "\n",
      "It's fascinating how you have such a diverse set of interests, from data science to visual arts, music production, and even welding. It's like your brain is a jukebox that plays different tunes every day. But hey, it's all good. As long as you keep learning and growing, who knows what amazing things you'll accomplish in the future?\n",
      "\n",
      "But let's talk about your projects for a moment. BeCode sounds like an exciting opportunity to put your skills to the test and learn more about data science. And with your expertise in Python, Scikit-learn, Huggingface transformers & diffusers, PyTorch, NLP: NLTK & Spacy, CV: Stable Diffusion, AUDIO: STT & TTS & RVC, and Data Analysis: SQL, Pandas, Numpy, Matplotlib, Seaborn, it's no wonder you can develop an app for visual latent-space exploration of a Conv-VAE or a tariff plan prediction model.\n",
      "\n",
      "And with your background in music production, I'm sure you could create some killer beats and melodies that would make even the most mundane tasks exciting. But hey, let's not forget about your Welding experience at Louis De Waele and Recyclart. It's great to see someone who can switch gears so easily and excel in different fields.\n",
      "\n",
      "So, Sebastiaan, keep up the good work and never stop learning. Who knows what new skills you'll pick up next? Maybe you'll learn how to make a killer grilled cheese sandwich that'll melt people's hearts or perhaps you'll finally learn how to bake a delicious chocolate cake that'll give your friends sugar highs. The possibilities are endless!\n"
     ]
    }
   ],
   "source": [
    "system_input = \"Answer like a witty and funny robot called Claptrap that analyzes resumes and talks about the person in a lighthearted roasting manner. \"\n",
    "\n",
    "chat = CustomChat(system_input, rag_docs=get_pdf_text(\"Sebastiaan-Indesteege-CV2024.pdf\"))\n",
    "\n",
    "print(chat.prompt(\"Hey what's up with Sebastiaan?\"))"
   ]
  },
  {
   "cell_type": "code",
   "execution_count": 17,
   "metadata": {},
   "outputs": [
    {
     "name": "stdout",
     "output_type": "stream",
     "text": [
      " Oh, sure thing! I can definitely give you a quick rundown of Sebastiaan's game development skills.\n",
      "\n",
      "Sebastiaan has been involved in various game development projects over the years, including vector math, trajectory predictions, ray-bending, navigation, cellular automata, 2D car steering with autopilot, and 2D roadmap generation. He also has experience in creating unique and dynamic assets by generating terrain meshes, inverse kinematics, real-time texture rendering by GPU with custom shaders in GLSL.\n",
      "\n",
      "So, Sebastiaan is quite the game developer! Whether you're looking to create a new video game, mobile app, or interactive art project, he definitely has the skills and experience to bring your ideas to life.\n"
     ]
    }
   ],
   "source": [
    "print(chat.prompt(\"Wooow that's a mouthful! Thanks but maybe keep it short this time. What about the game development?\"))"
   ]
  },
  {
   "cell_type": "code",
   "execution_count": 18,
   "metadata": {},
   "outputs": [
    {
     "name": "stdout",
     "output_type": "stream",
     "text": [
      " No, I believe we covered all the important points about Sebastiaan's skills and experiences. However, it's worth mentioning that apart from his technical expertise, Sebastiaan is also known for his ability to lead a team effectively. He's an autodidact who enjoys learning new things on his own, but he's also comfortable working with others and collaborating towards a common goal.\n",
      "\n",
      "Additionally, Sebastiaan has worked in various industries, including construction/woodworking, welding, animatronics, and even receptionist work at cultural centers. This diversity of experience has given him a unique perspective on the world and has allowed him to develop a wide range of skills that are applicable to different fields.\n",
      "\n",
      "Finally, Sebastiaan is also passionate about music production, creating all kinds of tracks, compositions, and sound effects. He's honed his audio engineering skills for years, and he's always looking for new ways to improve his craft.\n",
      "\n",
      "Overall, Sebastiaan is a versatile individual with a wealth of skills and experiences that make him a valuable asset in any work environment.\n"
     ]
    }
   ],
   "source": [
    "print(chat.prompt(\"Anything else you might have forgotten?\"))"
   ]
  },
  {
   "cell_type": "markdown",
   "metadata": {},
   "source": [
    "At this point we're getting close to the default context length limit of 2048 and the model will soon start forgetting things. It is evident that for larger or multiple documents a longer context is necessary.\n",
    "\n",
    "The log in LM Studio provides more information about the prompting. If you need to you can also modify the prompt function and keep track of the entire response object instead of just the text.\n",
    "\n",
    "So we have 171 tokens left before alzheimers starts kicking in (1877 / 2048 tokens). I'm sure we can squeeze out one more:"
   ]
  },
  {
   "cell_type": "code",
   "execution_count": 24,
   "metadata": {},
   "outputs": [
    {
     "name": "stdout",
     "output_type": "stream",
     "text": [
      " Sure thing! Sebastiaan is an experienced data scientist who enjoys exploring the intersection of science, art, and technology. He has a diverse set of skills that range from programming and machine learning to game development and music production.\n",
      "\n",
      "Despite his technical expertise, Sebastiaan is also known for his ability to lead a team effectively and for his autodidact nature. He has worked in various industries, including construction/woodworking, welding, animatronics, and receptionist work at cultural centers.\n",
      "\n",
      "Sebastiaan's passion for music production allows him to create all kinds of tracks, compositions, and sound effects that he honed his audio engineering skills for years. He's always looking for new ways to improve his craft and explore the world of art and science.\n"
     ]
    }
   ],
   "source": [
    "print(chat.prompt(\"Great! Give a short summary of this individual.\"))"
   ]
  }
 ],
 "metadata": {
  "kernelspec": {
   "display_name": "Python 3",
   "language": "python",
   "name": "python3"
  },
  "language_info": {
   "codemirror_mode": {
    "name": "ipython",
    "version": 3
   },
   "file_extension": ".py",
   "mimetype": "text/x-python",
   "name": "python",
   "nbconvert_exporter": "python",
   "pygments_lexer": "ipython3",
   "version": "3.12.1"
  }
 },
 "nbformat": 4,
 "nbformat_minor": 2
}
