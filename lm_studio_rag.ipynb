{
 "cells": [
  {
   "cell_type": "markdown",
   "metadata": {},
   "source": [
    "# Connecting to LM Studio with OpenAI Client"
   ]
  },
  {
   "cell_type": "code",
   "execution_count": 2,
   "metadata": {},
   "outputs": [],
   "source": [
    "from openai import OpenAI\n",
    "\n",
    "client = OpenAI(base_url=\"http://localhost:1234/v1\", api_key=\"not-needed\")\n",
    "\n",
    "def prompt(system_input, user_input, temperature=0.7):\n",
    "    return client.chat.completions.create(\n",
    "        model=\"local-model\", # this field is currently unused\n",
    "        messages=[\n",
    "            {\"role\": \"system\", \"content\": system_input},\n",
    "            {\"role\": \"user\", \"content\": user_input}\n",
    "        ],\n",
    "        temperature=temperature,\n",
    "    )"
   ]
  },
  {
   "cell_type": "markdown",
   "metadata": {},
   "source": [
    "# RAG"
   ]
  },
  {
   "cell_type": "code",
   "execution_count": 3,
   "metadata": {},
   "outputs": [],
   "source": [
    "from pypdf import PdfReader\n",
    "\n",
    "def get_pdf_text(pdf_filepath):\n",
    "    text = \"\"\n",
    "    pdf_reader = PdfReader(pdf_filepath)\n",
    "    for page in pdf_reader.pages:\n",
    "        text += page.extract_text()\n",
    "    return text"
   ]
  },
  {
   "cell_type": "code",
   "execution_count": 4,
   "metadata": {},
   "outputs": [
    {
     "data": {
      "text/plain": [
       "'Sebastiaan Indesteege is a Junior Data Scientist with interests in programming, machine learning, data analysis, deployment, visual design, and music production. He has experience working on various projects, including developing an app for visual latent-space exploration of a Conv-VAE, creating a word-relevance web app using transformers, coding a neural network from scratch using numpy, developing a tariff plan prediction model for Orange, and developing a scraping tool for use with ImmoWeb website. He also has experience in procedural modeling, animation & texturing, exploratory game development, and music production.'"
      ]
     },
     "execution_count": 4,
     "metadata": {},
     "output_type": "execute_result"
    }
   ],
   "source": [
    "system_input = get_pdf_text(\"Sebastiaan-Indesteege-CV2024.pdf\")\n",
    "user_input = \"Who is Sebastiaan?\"\n",
    "prompt(system_input, user_input, temperature=0).choices[0].message.content"
   ]
  },
  {
   "cell_type": "markdown",
   "metadata": {},
   "source": [
    "# Temperature = 0"
   ]
  },
  {
   "cell_type": "code",
   "execution_count": 10,
   "metadata": {},
   "outputs": [
    {
     "data": {
      "text/plain": [
       "\"Sebastiaan's view on the world is not explicitly stated in his profile.\""
      ]
     },
     "execution_count": 10,
     "metadata": {},
     "output_type": "execute_result"
    }
   ],
   "source": [
    "system_input = get_pdf_text(\"Sebastiaan-Indesteege-CV2024.pdf\").replace(\"\\n\", \". \")\n",
    "user_input = \"What is Sebastiaan's view on the world?\"\n",
    "prompt(system_input, user_input, temperature=0).choices[0].message.content"
   ]
  },
  {
   "cell_type": "code",
   "execution_count": 11,
   "metadata": {},
   "outputs": [
    {
     "data": {
      "text/plain": [
       "\"Sebastiaan's view on existence is not explicitly stated in the provided information.\""
      ]
     },
     "execution_count": 11,
     "metadata": {},
     "output_type": "execute_result"
    }
   ],
   "source": [
    "system_input = get_pdf_text(\"Sebastiaan-Indesteege-CV2024.pdf\").replace(\"\\n\", \". \")\n",
    "user_input = \"What is Sebastiaan's view on existence?\"\n",
    "prompt(system_input, user_input, temperature=0).choices[0].message.content"
   ]
  },
  {
   "cell_type": "markdown",
   "metadata": {},
   "source": [
    "# Temperature = 1"
   ]
  },
  {
   "cell_type": "code",
   "execution_count": 14,
   "metadata": {},
   "outputs": [
    {
     "data": {
      "text/plain": [
       "'Sebastiaan views the world as being made up of existence that needs to be understood before it fades away. He is interested in understanding artificial intelligence and wants to know more about it. He also enjoys exploring the arts and sciences and wants to one day understand their essence.'"
      ]
     },
     "execution_count": 14,
     "metadata": {},
     "output_type": "execute_result"
    }
   ],
   "source": [
    "system_input = get_pdf_text(\"Sebastiaan-Indesteege-CV2024.pdf\").replace(\"\\n\", \". \")\n",
    "user_input = \"What is Sebastiaan's view on the world?\"\n",
    "prompt(system_input, user_input, temperature=1).choices[0].message.content"
   ]
  },
  {
   "cell_type": "code",
   "execution_count": 9,
   "metadata": {},
   "outputs": [
    {
     "data": {
      "text/plain": [
       "'Sebastiaan views existence as interesting and he wants to understand its essence before it fades away. He hopes to do so through his interest in artificial intelligence and data science, but also mentions other areas such as music production, procedural modeling, and game development.'"
      ]
     },
     "execution_count": 9,
     "metadata": {},
     "output_type": "execute_result"
    }
   ],
   "source": [
    "system_input = get_pdf_text(\"Sebastiaan-Indesteege-CV2024.pdf\").replace(\"\\n\", \". \")\n",
    "user_input = \"What is Sebastiaan's view on existence?\"\n",
    "prompt(system_input, user_input, temperature=1).choices[0].message.content"
   ]
  }
 ],
 "metadata": {
  "kernelspec": {
   "display_name": "Python 3",
   "language": "python",
   "name": "python3"
  },
  "language_info": {
   "codemirror_mode": {
    "name": "ipython",
    "version": 3
   },
   "file_extension": ".py",
   "mimetype": "text/x-python",
   "name": "python",
   "nbconvert_exporter": "python",
   "pygments_lexer": "ipython3",
   "version": "3.12.1"
  }
 },
 "nbformat": 4,
 "nbformat_minor": 2
}
