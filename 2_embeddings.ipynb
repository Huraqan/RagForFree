{
 "cells": [
  {
   "cell_type": "markdown",
   "metadata": {},
   "source": [
    "# An extended approach using embeddings\n",
    "As stated on OpenAI's documentation, embeddings are commonly used for:\n",
    "- Search (where results are ranked by relevance to a query string)\n",
    "- Clustering (where text strings are grouped by similarity)\n",
    "- Recommendations (where items with related text strings are recommended)\n",
    "- Anomaly detection (where outliers with little relatedness are identified)\n",
    "- Diversity measurement (where similarity distributions are analyzed)\n",
    "- Classification (where text strings are classified by their most similar label)\n",
    "\n",
    "Using an embedding model we can obtain a vector representing the input text. If we do this for a bunch of documents and store it in a vector store, we can verify similarity between the documents and the user prompt and retrieve the right one(s). We can then augment the system or user prompt with the retrieved information.\n",
    "\n",
    "[Here](https://stackoverflow.blog/2023/11/09/an-intuitive-introduction-to-text-embeddings/) is an intuitive explanation of embeddings.\n",
    "\n",
    "**IMPORTANT:** Be sure you load an embedding model through the `Model Embedding Setting` panel of the `Local Server` tab, otherwise it will default to using the main model and get stuck."
   ]
  },
  {
   "cell_type": "code",
   "execution_count": 60,
   "metadata": {},
   "outputs": [],
   "source": [
    "from openai import OpenAI\n",
    "import numpy as np\n",
    "from sklearn.metrics.pairwise import cosine_similarity\n",
    "from sklearn.preprocessing import normalize\n",
    "\n",
    "client = OpenAI(base_url=\"http://localhost:1234/v1\", api_key=\"lm-studio\")\n",
    "\n",
    "def get_embedding(text):\n",
    "    text = text.replace(\"\\n\", \" \")\n",
    "    embedding = client.embeddings.create(input = [text], model=\"\").data[0].embedding\n",
    "    embedding = np.array(embedding).reshape(1, -1)\n",
    "    embedding = normalize(embedding) # This didn't remove the bias 😭 (discussed below)\n",
    "    return embedding\n",
    "\n",
    "def find_relevant_context(query, rag_docs, vector_store, top_k=1):\n",
    "    query_embedding = get_embedding(query)\n",
    "    similarities = [\n",
    "        cosine_similarity(query_embedding, document_embedding)\n",
    "        for document_embedding in vector_store\n",
    "    ]\n",
    "    \n",
    "    top_k_indices = np.argsort(similarities, axis=0)[-top_k:][::-1]\n",
    "    \n",
    "    return [rag_docs[int(idx[0][0])] for idx in top_k_indices]\n",
    "\n",
    "import pdfx\n",
    "from re import compile\n",
    "regex_spaces = compile(r\"  +\")\n",
    "\n",
    "def get_pdf_text(pdf_filepath):\n",
    "    pdf = pdfx.PDFx(pdf_filepath)\n",
    "    \n",
    "    text = pdf.get_text()\n",
    "    text = text.replace(\"\\n\", \" \")\n",
    "    text = regex_spaces.sub(\" \", text)\n",
    "    if pdf.get_references():\n",
    "        text += \" references: \" + str(pdf.get_references_as_dict())\n",
    "    \n",
    "    return text"
   ]
  },
  {
   "cell_type": "markdown",
   "metadata": {},
   "source": [
    "Now we load our documents and create a vector store to perform semantic search on."
   ]
  },
  {
   "cell_type": "code",
   "execution_count": 66,
   "metadata": {},
   "outputs": [],
   "source": [
    "rag_docs = [\n",
    "    get_pdf_text(\"Sebastiaan-Indesteege-CV2024.pdf\"),\n",
    "    get_pdf_text(\"John-Doe-CV.pdf\")\n",
    "]\n",
    "\n",
    "vector_store = [\n",
    "    get_embedding(rag_docs[0]),\n",
    "    get_embedding(rag_docs[1])\n",
    "]"
   ]
  },
  {
   "cell_type": "code",
   "execution_count": 67,
   "metadata": {},
   "outputs": [
    {
     "data": {
      "text/plain": [
       "['John Doe Full Address ▪ City, State, ZIP ▪ Phone Number ▪ E-mail OBJECTIVE: Design apparel print for an innovative retail company EDUCATION : UNIVERSITY OF MINNESOTA City, State College of Design May 2011 Bachelor of Science in Graphic Design Cumulative GPA 3.93 , Dean’s List Twin cities Iron Range Scholarship WORK EXPERIENCE: AMERICAN EAGLE City, State Sales Associate July 2009 - present Collaborated with the store merchandiser creating displays to attract clientele Use my trend awareness to assist customers in their shopping experience Thoroughly scan every piece of merchandise for inventory control Process shipment to increase my product knowledge PLANET BEACH City, State Spa Consultant Aug. 2008 - present Sell retail and memb erships to meet company sales goals Build organizational skills by single handedly running all operating procedures Communicate with clients to fulfill their wants and needs Attend promotional events to market our services Handle cash and deposits during opening and closing Received employee of the month award twice HEARTBREAKER City, State Sales Associate May 2008 – Aug. 2008 Stocked sales floor with fast fashion invent ory Marked down items allowing me to see unsuccessful merchandise in a retail market Offered advice and assistance to each guest VICTORIA ’S SECRET City, State Fashion Representative Jan. 2006 – Feb. 2009 Applied my leadership skills by assisting in the training of coworkers Set up mannequins a nd displays in order to entice future customers Provided superior customer service by helping with consumer decisions Took seasonal inventory VOLUNTEER EXPERIENCE : TARGET CORPORATION City, State Brand Ambassador August 2009 Represented Periscope Marketing and Target Inc. at a college event Engaged University of Minnesota freshman in the Target brand experience ']"
      ]
     },
     "execution_count": 67,
     "metadata": {},
     "output_type": "execute_result"
    }
   ],
   "source": [
    "user_query = \"salesman\"\n",
    "find_relevant_context(user_query, rag_docs, vector_store, top_k=1)"
   ]
  },
  {
   "cell_type": "code",
   "execution_count": 68,
   "metadata": {},
   "outputs": [
    {
     "data": {
      "text/plain": [
       "[\"Sebastiaan Indesteege Junior Data Scientist indesteege.sebastiaan@gmail.com 0489 10 29 01 Brussels, Belgium 31/07/1991 github.com/Huraqan sebastiaan-indesteege-08702a56 huraqan Following the arts and sciences that interest me, I hope to one day understand the essence of existence before my own fades away. Today artificial intelligence is more interesting than ever and I strive to know more. Languages English Français Nederlands Español Skills Programming C#, Python, GDScript, GLSL Machine Learning Scikit-learn, Huggingface transformers & diffusers, PyTorch, NLP: NLTK & Spacy, CV: Stable Diffusion, AUDIO: STT & TTS & RVC Data Analysis SQL, Pandas, Numpy, Matplotlib, Seaborn Deployment Streamlit, FastAPI, Docker, Gradio Visual Design Photoshop, Pixel Shading Music Production Composition, Mixing, Mastering Soft Skills Autodidact — I can learn alone People skills — I can lead a team Curious — I like to know moreProjects BeCode, Corporate use-cases & personal challenges 03/2024 – 06/2024 •Developed app for visual latent-space exploration of a Conv-VAE. •Developed local RAG (Retrieval Augmented Generation). •Developed a word-relevance web app using transformers. •Coded a neural network from scratch using numpy. •Developed a tariff plan prediction model for Orange. •Developed a scraping tool for use with ImmoWeb website. •Developed and deployed a price prediction model for ImmoWeb. Procedural Modeling, Animation & Texturing 2022 – present Modeling, animating and texturing programmatically to make unique and dynamic assets: generating terrain meshes, inverse kinematics, real- time texture rendering by GPU with custom shaders in GLSL... Exploratory Game Development 2015 – present Vector math, trajectory predictions, ray-bending, navigation, cellular automata, 2d car steering with autopilot, 2d roadmap generation... Music Production 07/2007 – present I create all kinds of tracks, compositions and sound effects. I've honed my audio engineering skills for a while. Professional Experience BeCode, Data Scientist 01/2024 – 08/2024 Hopono (smartbe), Construction / Woodworking 11/2023 – 12/2023 Louis De Waele, Welder / Ironworker 05/2023 – 08/2023 Recyclart, Valorist / Animator / Welder / Ironworker 10/2021 – 10/2022 Centre Culturel l'Armillaire, Receptionist 2017 – 2018 Interim, Various missions 2016 – 2023 Belgacom, Quality Control 2016 Education Industrial Welder HLO45, Technicity 2018 – 2020 | Brussels, Belgium Industrial Sciences / Multimedia, Erasmushogeschool Brussel 2013 – 2016 | Brussels, Belgium Digital Media Design, Haute École Albert Jacquard 2009 – 2012 | Namur, Belgium Maths & Science, Don Boscocollege Zwijnaarde 2005 – 2009 | Ghent, Belgium\"]"
      ]
     },
     "execution_count": 68,
     "metadata": {},
     "output_type": "execute_result"
    }
   ],
   "source": [
    "user_query = \"artist\"\n",
    "find_relevant_context(user_query, rag_docs, vector_store, top_k=1)"
   ]
  },
  {
   "cell_type": "markdown",
   "metadata": {},
   "source": [
    "Let's do an experiment with random strings to see if we can retrieve both documents with equal probabillities."
   ]
  },
  {
   "cell_type": "code",
   "execution_count": 40,
   "metadata": {},
   "outputs": [],
   "source": [
    "import random\n",
    "import string\n",
    "\n",
    "def generate_random_string(length):\n",
    "    letters = string.ascii_letters + string.digits\n",
    "    return ''.join(random.choice(letters) for i in range(length))"
   ]
  },
  {
   "cell_type": "markdown",
   "metadata": {},
   "source": [
    "Run the cell below as many times as you like, the cosine similarity score seems to be consistently biased towards the first document..."
   ]
  },
  {
   "cell_type": "code",
   "execution_count": 72,
   "metadata": {},
   "outputs": [
    {
     "name": "stdout",
     "output_type": "stream",
     "text": [
      "[\"Sebastiaan Indesteege Junior Data Scientist indesteege.sebastiaan@gmail.com 0489 10 29 01 Brussels, Belgium 31/07/1991 github.com/Huraqan sebastiaan-indesteege-08702a56 huraqan Following the arts and sciences that interest me, I hope to one day understand the essence of existence before my own fades away. Today artificial intelligence is more interesting than ever and I strive to know more. Languages English Français Nederlands Español Skills Programming C#, Python, GDScript, GLSL Machine Learning Scikit-learn, Huggingface transformers & diffusers, PyTorch, NLP: NLTK & Spacy, CV: Stable Diffusion, AUDIO: STT & TTS & RVC Data Analysis SQL, Pandas, Numpy, Matplotlib, Seaborn Deployment Streamlit, FastAPI, Docker, Gradio Visual Design Photoshop, Pixel Shading Music Production Composition, Mixing, Mastering Soft Skills Autodidact — I can learn alone People skills — I can lead a team Curious — I like to know moreProjects BeCode, Corporate use-cases & personal challenges 03/2024 – 06/2024 •Developed app for visual latent-space exploration of a Conv-VAE. •Developed local RAG (Retrieval Augmented Generation). •Developed a word-relevance web app using transformers. •Coded a neural network from scratch using numpy. •Developed a tariff plan prediction model for Orange. •Developed a scraping tool for use with ImmoWeb website. •Developed and deployed a price prediction model for ImmoWeb. Procedural Modeling, Animation & Texturing 2022 – present Modeling, animating and texturing programmatically to make unique and dynamic assets: generating terrain meshes, inverse kinematics, real- time texture rendering by GPU with custom shaders in GLSL... Exploratory Game Development 2015 – present Vector math, trajectory predictions, ray-bending, navigation, cellular automata, 2d car steering with autopilot, 2d roadmap generation... Music Production 07/2007 – present I create all kinds of tracks, compositions and sound effects. I've honed my audio engineering skills for a while. Professional Experience BeCode, Data Scientist 01/2024 – 08/2024 Hopono (smartbe), Construction / Woodworking 11/2023 – 12/2023 Louis De Waele, Welder / Ironworker 05/2023 – 08/2023 Recyclart, Valorist / Animator / Welder / Ironworker 10/2021 – 10/2022 Centre Culturel l'Armillaire, Receptionist 2017 – 2018 Interim, Various missions 2016 – 2023 Belgacom, Quality Control 2016 Education Industrial Welder HLO45, Technicity 2018 – 2020 | Brussels, Belgium Industrial Sciences / Multimedia, Erasmushogeschool Brussel 2013 – 2016 | Brussels, Belgium Digital Media Design, Haute École Albert Jacquard 2009 – 2012 | Namur, Belgium Maths & Science, Don Boscocollege Zwijnaarde 2005 – 2009 | Ghent, Belgium\"]\n",
      "[\"Sebastiaan Indesteege Junior Data Scientist indesteege.sebastiaan@gmail.com 0489 10 29 01 Brussels, Belgium 31/07/1991 github.com/Huraqan sebastiaan-indesteege-08702a56 huraqan Following the arts and sciences that interest me, I hope to one day understand the essence of existence before my own fades away. Today artificial intelligence is more interesting than ever and I strive to know more. Languages English Français Nederlands Español Skills Programming C#, Python, GDScript, GLSL Machine Learning Scikit-learn, Huggingface transformers & diffusers, PyTorch, NLP: NLTK & Spacy, CV: Stable Diffusion, AUDIO: STT & TTS & RVC Data Analysis SQL, Pandas, Numpy, Matplotlib, Seaborn Deployment Streamlit, FastAPI, Docker, Gradio Visual Design Photoshop, Pixel Shading Music Production Composition, Mixing, Mastering Soft Skills Autodidact — I can learn alone People skills — I can lead a team Curious — I like to know moreProjects BeCode, Corporate use-cases & personal challenges 03/2024 – 06/2024 •Developed app for visual latent-space exploration of a Conv-VAE. •Developed local RAG (Retrieval Augmented Generation). •Developed a word-relevance web app using transformers. •Coded a neural network from scratch using numpy. •Developed a tariff plan prediction model for Orange. •Developed a scraping tool for use with ImmoWeb website. •Developed and deployed a price prediction model for ImmoWeb. Procedural Modeling, Animation & Texturing 2022 – present Modeling, animating and texturing programmatically to make unique and dynamic assets: generating terrain meshes, inverse kinematics, real- time texture rendering by GPU with custom shaders in GLSL... Exploratory Game Development 2015 – present Vector math, trajectory predictions, ray-bending, navigation, cellular automata, 2d car steering with autopilot, 2d roadmap generation... Music Production 07/2007 – present I create all kinds of tracks, compositions and sound effects. I've honed my audio engineering skills for a while. Professional Experience BeCode, Data Scientist 01/2024 – 08/2024 Hopono (smartbe), Construction / Woodworking 11/2023 – 12/2023 Louis De Waele, Welder / Ironworker 05/2023 – 08/2023 Recyclart, Valorist / Animator / Welder / Ironworker 10/2021 – 10/2022 Centre Culturel l'Armillaire, Receptionist 2017 – 2018 Interim, Various missions 2016 – 2023 Belgacom, Quality Control 2016 Education Industrial Welder HLO45, Technicity 2018 – 2020 | Brussels, Belgium Industrial Sciences / Multimedia, Erasmushogeschool Brussel 2013 – 2016 | Brussels, Belgium Digital Media Design, Haute École Albert Jacquard 2009 – 2012 | Namur, Belgium Maths & Science, Don Boscocollege Zwijnaarde 2005 – 2009 | Ghent, Belgium\"]\n",
      "[\"Sebastiaan Indesteege Junior Data Scientist indesteege.sebastiaan@gmail.com 0489 10 29 01 Brussels, Belgium 31/07/1991 github.com/Huraqan sebastiaan-indesteege-08702a56 huraqan Following the arts and sciences that interest me, I hope to one day understand the essence of existence before my own fades away. Today artificial intelligence is more interesting than ever and I strive to know more. Languages English Français Nederlands Español Skills Programming C#, Python, GDScript, GLSL Machine Learning Scikit-learn, Huggingface transformers & diffusers, PyTorch, NLP: NLTK & Spacy, CV: Stable Diffusion, AUDIO: STT & TTS & RVC Data Analysis SQL, Pandas, Numpy, Matplotlib, Seaborn Deployment Streamlit, FastAPI, Docker, Gradio Visual Design Photoshop, Pixel Shading Music Production Composition, Mixing, Mastering Soft Skills Autodidact — I can learn alone People skills — I can lead a team Curious — I like to know moreProjects BeCode, Corporate use-cases & personal challenges 03/2024 – 06/2024 •Developed app for visual latent-space exploration of a Conv-VAE. •Developed local RAG (Retrieval Augmented Generation). •Developed a word-relevance web app using transformers. •Coded a neural network from scratch using numpy. •Developed a tariff plan prediction model for Orange. •Developed a scraping tool for use with ImmoWeb website. •Developed and deployed a price prediction model for ImmoWeb. Procedural Modeling, Animation & Texturing 2022 – present Modeling, animating and texturing programmatically to make unique and dynamic assets: generating terrain meshes, inverse kinematics, real- time texture rendering by GPU with custom shaders in GLSL... Exploratory Game Development 2015 – present Vector math, trajectory predictions, ray-bending, navigation, cellular automata, 2d car steering with autopilot, 2d roadmap generation... Music Production 07/2007 – present I create all kinds of tracks, compositions and sound effects. I've honed my audio engineering skills for a while. Professional Experience BeCode, Data Scientist 01/2024 – 08/2024 Hopono (smartbe), Construction / Woodworking 11/2023 – 12/2023 Louis De Waele, Welder / Ironworker 05/2023 – 08/2023 Recyclart, Valorist / Animator / Welder / Ironworker 10/2021 – 10/2022 Centre Culturel l'Armillaire, Receptionist 2017 – 2018 Interim, Various missions 2016 – 2023 Belgacom, Quality Control 2016 Education Industrial Welder HLO45, Technicity 2018 – 2020 | Brussels, Belgium Industrial Sciences / Multimedia, Erasmushogeschool Brussel 2013 – 2016 | Brussels, Belgium Digital Media Design, Haute École Albert Jacquard 2009 – 2012 | Namur, Belgium Maths & Science, Don Boscocollege Zwijnaarde 2005 – 2009 | Ghent, Belgium\"]\n",
      "[\"Sebastiaan Indesteege Junior Data Scientist indesteege.sebastiaan@gmail.com 0489 10 29 01 Brussels, Belgium 31/07/1991 github.com/Huraqan sebastiaan-indesteege-08702a56 huraqan Following the arts and sciences that interest me, I hope to one day understand the essence of existence before my own fades away. Today artificial intelligence is more interesting than ever and I strive to know more. Languages English Français Nederlands Español Skills Programming C#, Python, GDScript, GLSL Machine Learning Scikit-learn, Huggingface transformers & diffusers, PyTorch, NLP: NLTK & Spacy, CV: Stable Diffusion, AUDIO: STT & TTS & RVC Data Analysis SQL, Pandas, Numpy, Matplotlib, Seaborn Deployment Streamlit, FastAPI, Docker, Gradio Visual Design Photoshop, Pixel Shading Music Production Composition, Mixing, Mastering Soft Skills Autodidact — I can learn alone People skills — I can lead a team Curious — I like to know moreProjects BeCode, Corporate use-cases & personal challenges 03/2024 – 06/2024 •Developed app for visual latent-space exploration of a Conv-VAE. •Developed local RAG (Retrieval Augmented Generation). •Developed a word-relevance web app using transformers. •Coded a neural network from scratch using numpy. •Developed a tariff plan prediction model for Orange. •Developed a scraping tool for use with ImmoWeb website. •Developed and deployed a price prediction model for ImmoWeb. Procedural Modeling, Animation & Texturing 2022 – present Modeling, animating and texturing programmatically to make unique and dynamic assets: generating terrain meshes, inverse kinematics, real- time texture rendering by GPU with custom shaders in GLSL... Exploratory Game Development 2015 – present Vector math, trajectory predictions, ray-bending, navigation, cellular automata, 2d car steering with autopilot, 2d roadmap generation... Music Production 07/2007 – present I create all kinds of tracks, compositions and sound effects. I've honed my audio engineering skills for a while. Professional Experience BeCode, Data Scientist 01/2024 – 08/2024 Hopono (smartbe), Construction / Woodworking 11/2023 – 12/2023 Louis De Waele, Welder / Ironworker 05/2023 – 08/2023 Recyclart, Valorist / Animator / Welder / Ironworker 10/2021 – 10/2022 Centre Culturel l'Armillaire, Receptionist 2017 – 2018 Interim, Various missions 2016 – 2023 Belgacom, Quality Control 2016 Education Industrial Welder HLO45, Technicity 2018 – 2020 | Brussels, Belgium Industrial Sciences / Multimedia, Erasmushogeschool Brussel 2013 – 2016 | Brussels, Belgium Digital Media Design, Haute École Albert Jacquard 2009 – 2012 | Namur, Belgium Maths & Science, Don Boscocollege Zwijnaarde 2005 – 2009 | Ghent, Belgium\"]\n",
      "[\"Sebastiaan Indesteege Junior Data Scientist indesteege.sebastiaan@gmail.com 0489 10 29 01 Brussels, Belgium 31/07/1991 github.com/Huraqan sebastiaan-indesteege-08702a56 huraqan Following the arts and sciences that interest me, I hope to one day understand the essence of existence before my own fades away. Today artificial intelligence is more interesting than ever and I strive to know more. Languages English Français Nederlands Español Skills Programming C#, Python, GDScript, GLSL Machine Learning Scikit-learn, Huggingface transformers & diffusers, PyTorch, NLP: NLTK & Spacy, CV: Stable Diffusion, AUDIO: STT & TTS & RVC Data Analysis SQL, Pandas, Numpy, Matplotlib, Seaborn Deployment Streamlit, FastAPI, Docker, Gradio Visual Design Photoshop, Pixel Shading Music Production Composition, Mixing, Mastering Soft Skills Autodidact — I can learn alone People skills — I can lead a team Curious — I like to know moreProjects BeCode, Corporate use-cases & personal challenges 03/2024 – 06/2024 •Developed app for visual latent-space exploration of a Conv-VAE. •Developed local RAG (Retrieval Augmented Generation). •Developed a word-relevance web app using transformers. •Coded a neural network from scratch using numpy. •Developed a tariff plan prediction model for Orange. •Developed a scraping tool for use with ImmoWeb website. •Developed and deployed a price prediction model for ImmoWeb. Procedural Modeling, Animation & Texturing 2022 – present Modeling, animating and texturing programmatically to make unique and dynamic assets: generating terrain meshes, inverse kinematics, real- time texture rendering by GPU with custom shaders in GLSL... Exploratory Game Development 2015 – present Vector math, trajectory predictions, ray-bending, navigation, cellular automata, 2d car steering with autopilot, 2d roadmap generation... Music Production 07/2007 – present I create all kinds of tracks, compositions and sound effects. I've honed my audio engineering skills for a while. Professional Experience BeCode, Data Scientist 01/2024 – 08/2024 Hopono (smartbe), Construction / Woodworking 11/2023 – 12/2023 Louis De Waele, Welder / Ironworker 05/2023 – 08/2023 Recyclart, Valorist / Animator / Welder / Ironworker 10/2021 – 10/2022 Centre Culturel l'Armillaire, Receptionist 2017 – 2018 Interim, Various missions 2016 – 2023 Belgacom, Quality Control 2016 Education Industrial Welder HLO45, Technicity 2018 – 2020 | Brussels, Belgium Industrial Sciences / Multimedia, Erasmushogeschool Brussel 2013 – 2016 | Brussels, Belgium Digital Media Design, Haute École Albert Jacquard 2009 – 2012 | Namur, Belgium Maths & Science, Don Boscocollege Zwijnaarde 2005 – 2009 | Ghent, Belgium\"]\n",
      "[\"Sebastiaan Indesteege Junior Data Scientist indesteege.sebastiaan@gmail.com 0489 10 29 01 Brussels, Belgium 31/07/1991 github.com/Huraqan sebastiaan-indesteege-08702a56 huraqan Following the arts and sciences that interest me, I hope to one day understand the essence of existence before my own fades away. Today artificial intelligence is more interesting than ever and I strive to know more. Languages English Français Nederlands Español Skills Programming C#, Python, GDScript, GLSL Machine Learning Scikit-learn, Huggingface transformers & diffusers, PyTorch, NLP: NLTK & Spacy, CV: Stable Diffusion, AUDIO: STT & TTS & RVC Data Analysis SQL, Pandas, Numpy, Matplotlib, Seaborn Deployment Streamlit, FastAPI, Docker, Gradio Visual Design Photoshop, Pixel Shading Music Production Composition, Mixing, Mastering Soft Skills Autodidact — I can learn alone People skills — I can lead a team Curious — I like to know moreProjects BeCode, Corporate use-cases & personal challenges 03/2024 – 06/2024 •Developed app for visual latent-space exploration of a Conv-VAE. •Developed local RAG (Retrieval Augmented Generation). •Developed a word-relevance web app using transformers. •Coded a neural network from scratch using numpy. •Developed a tariff plan prediction model for Orange. •Developed a scraping tool for use with ImmoWeb website. •Developed and deployed a price prediction model for ImmoWeb. Procedural Modeling, Animation & Texturing 2022 – present Modeling, animating and texturing programmatically to make unique and dynamic assets: generating terrain meshes, inverse kinematics, real- time texture rendering by GPU with custom shaders in GLSL... Exploratory Game Development 2015 – present Vector math, trajectory predictions, ray-bending, navigation, cellular automata, 2d car steering with autopilot, 2d roadmap generation... Music Production 07/2007 – present I create all kinds of tracks, compositions and sound effects. I've honed my audio engineering skills for a while. Professional Experience BeCode, Data Scientist 01/2024 – 08/2024 Hopono (smartbe), Construction / Woodworking 11/2023 – 12/2023 Louis De Waele, Welder / Ironworker 05/2023 – 08/2023 Recyclart, Valorist / Animator / Welder / Ironworker 10/2021 – 10/2022 Centre Culturel l'Armillaire, Receptionist 2017 – 2018 Interim, Various missions 2016 – 2023 Belgacom, Quality Control 2016 Education Industrial Welder HLO45, Technicity 2018 – 2020 | Brussels, Belgium Industrial Sciences / Multimedia, Erasmushogeschool Brussel 2013 – 2016 | Brussels, Belgium Digital Media Design, Haute École Albert Jacquard 2009 – 2012 | Namur, Belgium Maths & Science, Don Boscocollege Zwijnaarde 2005 – 2009 | Ghent, Belgium\"]\n",
      "[\"Sebastiaan Indesteege Junior Data Scientist indesteege.sebastiaan@gmail.com 0489 10 29 01 Brussels, Belgium 31/07/1991 github.com/Huraqan sebastiaan-indesteege-08702a56 huraqan Following the arts and sciences that interest me, I hope to one day understand the essence of existence before my own fades away. Today artificial intelligence is more interesting than ever and I strive to know more. Languages English Français Nederlands Español Skills Programming C#, Python, GDScript, GLSL Machine Learning Scikit-learn, Huggingface transformers & diffusers, PyTorch, NLP: NLTK & Spacy, CV: Stable Diffusion, AUDIO: STT & TTS & RVC Data Analysis SQL, Pandas, Numpy, Matplotlib, Seaborn Deployment Streamlit, FastAPI, Docker, Gradio Visual Design Photoshop, Pixel Shading Music Production Composition, Mixing, Mastering Soft Skills Autodidact — I can learn alone People skills — I can lead a team Curious — I like to know moreProjects BeCode, Corporate use-cases & personal challenges 03/2024 – 06/2024 •Developed app for visual latent-space exploration of a Conv-VAE. •Developed local RAG (Retrieval Augmented Generation). •Developed a word-relevance web app using transformers. •Coded a neural network from scratch using numpy. •Developed a tariff plan prediction model for Orange. •Developed a scraping tool for use with ImmoWeb website. •Developed and deployed a price prediction model for ImmoWeb. Procedural Modeling, Animation & Texturing 2022 – present Modeling, animating and texturing programmatically to make unique and dynamic assets: generating terrain meshes, inverse kinematics, real- time texture rendering by GPU with custom shaders in GLSL... Exploratory Game Development 2015 – present Vector math, trajectory predictions, ray-bending, navigation, cellular automata, 2d car steering with autopilot, 2d roadmap generation... Music Production 07/2007 – present I create all kinds of tracks, compositions and sound effects. I've honed my audio engineering skills for a while. Professional Experience BeCode, Data Scientist 01/2024 – 08/2024 Hopono (smartbe), Construction / Woodworking 11/2023 – 12/2023 Louis De Waele, Welder / Ironworker 05/2023 – 08/2023 Recyclart, Valorist / Animator / Welder / Ironworker 10/2021 – 10/2022 Centre Culturel l'Armillaire, Receptionist 2017 – 2018 Interim, Various missions 2016 – 2023 Belgacom, Quality Control 2016 Education Industrial Welder HLO45, Technicity 2018 – 2020 | Brussels, Belgium Industrial Sciences / Multimedia, Erasmushogeschool Brussel 2013 – 2016 | Brussels, Belgium Digital Media Design, Haute École Albert Jacquard 2009 – 2012 | Namur, Belgium Maths & Science, Don Boscocollege Zwijnaarde 2005 – 2009 | Ghent, Belgium\"]\n",
      "[\"Sebastiaan Indesteege Junior Data Scientist indesteege.sebastiaan@gmail.com 0489 10 29 01 Brussels, Belgium 31/07/1991 github.com/Huraqan sebastiaan-indesteege-08702a56 huraqan Following the arts and sciences that interest me, I hope to one day understand the essence of existence before my own fades away. Today artificial intelligence is more interesting than ever and I strive to know more. Languages English Français Nederlands Español Skills Programming C#, Python, GDScript, GLSL Machine Learning Scikit-learn, Huggingface transformers & diffusers, PyTorch, NLP: NLTK & Spacy, CV: Stable Diffusion, AUDIO: STT & TTS & RVC Data Analysis SQL, Pandas, Numpy, Matplotlib, Seaborn Deployment Streamlit, FastAPI, Docker, Gradio Visual Design Photoshop, Pixel Shading Music Production Composition, Mixing, Mastering Soft Skills Autodidact — I can learn alone People skills — I can lead a team Curious — I like to know moreProjects BeCode, Corporate use-cases & personal challenges 03/2024 – 06/2024 •Developed app for visual latent-space exploration of a Conv-VAE. •Developed local RAG (Retrieval Augmented Generation). •Developed a word-relevance web app using transformers. •Coded a neural network from scratch using numpy. •Developed a tariff plan prediction model for Orange. •Developed a scraping tool for use with ImmoWeb website. •Developed and deployed a price prediction model for ImmoWeb. Procedural Modeling, Animation & Texturing 2022 – present Modeling, animating and texturing programmatically to make unique and dynamic assets: generating terrain meshes, inverse kinematics, real- time texture rendering by GPU with custom shaders in GLSL... Exploratory Game Development 2015 – present Vector math, trajectory predictions, ray-bending, navigation, cellular automata, 2d car steering with autopilot, 2d roadmap generation... Music Production 07/2007 – present I create all kinds of tracks, compositions and sound effects. I've honed my audio engineering skills for a while. Professional Experience BeCode, Data Scientist 01/2024 – 08/2024 Hopono (smartbe), Construction / Woodworking 11/2023 – 12/2023 Louis De Waele, Welder / Ironworker 05/2023 – 08/2023 Recyclart, Valorist / Animator / Welder / Ironworker 10/2021 – 10/2022 Centre Culturel l'Armillaire, Receptionist 2017 – 2018 Interim, Various missions 2016 – 2023 Belgacom, Quality Control 2016 Education Industrial Welder HLO45, Technicity 2018 – 2020 | Brussels, Belgium Industrial Sciences / Multimedia, Erasmushogeschool Brussel 2013 – 2016 | Brussels, Belgium Digital Media Design, Haute École Albert Jacquard 2009 – 2012 | Namur, Belgium Maths & Science, Don Boscocollege Zwijnaarde 2005 – 2009 | Ghent, Belgium\"]\n",
      "['John Doe Full Address ▪ City, State, ZIP ▪ Phone Number ▪ E-mail OBJECTIVE: Design apparel print for an innovative retail company EDUCATION : UNIVERSITY OF MINNESOTA City, State College of Design May 2011 Bachelor of Science in Graphic Design Cumulative GPA 3.93 , Dean’s List Twin cities Iron Range Scholarship WORK EXPERIENCE: AMERICAN EAGLE City, State Sales Associate July 2009 - present Collaborated with the store merchandiser creating displays to attract clientele Use my trend awareness to assist customers in their shopping experience Thoroughly scan every piece of merchandise for inventory control Process shipment to increase my product knowledge PLANET BEACH City, State Spa Consultant Aug. 2008 - present Sell retail and memb erships to meet company sales goals Build organizational skills by single handedly running all operating procedures Communicate with clients to fulfill their wants and needs Attend promotional events to market our services Handle cash and deposits during opening and closing Received employee of the month award twice HEARTBREAKER City, State Sales Associate May 2008 – Aug. 2008 Stocked sales floor with fast fashion invent ory Marked down items allowing me to see unsuccessful merchandise in a retail market Offered advice and assistance to each guest VICTORIA ’S SECRET City, State Fashion Representative Jan. 2006 – Feb. 2009 Applied my leadership skills by assisting in the training of coworkers Set up mannequins a nd displays in order to entice future customers Provided superior customer service by helping with consumer decisions Took seasonal inventory VOLUNTEER EXPERIENCE : TARGET CORPORATION City, State Brand Ambassador August 2009 Represented Periscope Marketing and Target Inc. at a college event Engaged University of Minnesota freshman in the Target brand experience ']\n",
      "[\"Sebastiaan Indesteege Junior Data Scientist indesteege.sebastiaan@gmail.com 0489 10 29 01 Brussels, Belgium 31/07/1991 github.com/Huraqan sebastiaan-indesteege-08702a56 huraqan Following the arts and sciences that interest me, I hope to one day understand the essence of existence before my own fades away. Today artificial intelligence is more interesting than ever and I strive to know more. Languages English Français Nederlands Español Skills Programming C#, Python, GDScript, GLSL Machine Learning Scikit-learn, Huggingface transformers & diffusers, PyTorch, NLP: NLTK & Spacy, CV: Stable Diffusion, AUDIO: STT & TTS & RVC Data Analysis SQL, Pandas, Numpy, Matplotlib, Seaborn Deployment Streamlit, FastAPI, Docker, Gradio Visual Design Photoshop, Pixel Shading Music Production Composition, Mixing, Mastering Soft Skills Autodidact — I can learn alone People skills — I can lead a team Curious — I like to know moreProjects BeCode, Corporate use-cases & personal challenges 03/2024 – 06/2024 •Developed app for visual latent-space exploration of a Conv-VAE. •Developed local RAG (Retrieval Augmented Generation). •Developed a word-relevance web app using transformers. •Coded a neural network from scratch using numpy. •Developed a tariff plan prediction model for Orange. •Developed a scraping tool for use with ImmoWeb website. •Developed and deployed a price prediction model for ImmoWeb. Procedural Modeling, Animation & Texturing 2022 – present Modeling, animating and texturing programmatically to make unique and dynamic assets: generating terrain meshes, inverse kinematics, real- time texture rendering by GPU with custom shaders in GLSL... Exploratory Game Development 2015 – present Vector math, trajectory predictions, ray-bending, navigation, cellular automata, 2d car steering with autopilot, 2d roadmap generation... Music Production 07/2007 – present I create all kinds of tracks, compositions and sound effects. I've honed my audio engineering skills for a while. Professional Experience BeCode, Data Scientist 01/2024 – 08/2024 Hopono (smartbe), Construction / Woodworking 11/2023 – 12/2023 Louis De Waele, Welder / Ironworker 05/2023 – 08/2023 Recyclart, Valorist / Animator / Welder / Ironworker 10/2021 – 10/2022 Centre Culturel l'Armillaire, Receptionist 2017 – 2018 Interim, Various missions 2016 – 2023 Belgacom, Quality Control 2016 Education Industrial Welder HLO45, Technicity 2018 – 2020 | Brussels, Belgium Industrial Sciences / Multimedia, Erasmushogeschool Brussel 2013 – 2016 | Brussels, Belgium Digital Media Design, Haute École Albert Jacquard 2009 – 2012 | Namur, Belgium Maths & Science, Don Boscocollege Zwijnaarde 2005 – 2009 | Ghent, Belgium\"]\n"
     ]
    }
   ],
   "source": [
    "for _ in range(10):\n",
    "    user_query = generate_random_string(length=20)\n",
    "    print(find_relevant_context(user_query, rag_docs, vector_store, top_k=1))"
   ]
  },
  {
   "cell_type": "markdown",
   "metadata": {},
   "source": [
    "Why? Well, maybe we're missing an important step to make sure our embeddings don't become too general: chunking.\n",
    "\n",
    "**Chunking** splits up a text into smaller pieces so that the embeddings capture finer detail. Usually some overlap is used to make sure the chunks preserve the context at their boundaries.\n",
    "\n",
    "Yeah, we're not doing that. I'm sure plenty of libraries offer ways to do chunking and keeping a vector store with proper functionality.\n",
    "\n",
    "It's time to move on to chatbots 😜\n",
    "</br>\n",
    "</br>\n",
    "</br>\n",
    "</br>\n",
    "</br>\n",
    "</br>\n",
    "</br>\n",
    "\n",
    "**Sidenote:** Some other possible causes for the bias suggested by ChatGPT (the irony):\n",
    "\n",
    "- **Normalization Issues:** If the embeddings are not properly normalized, it might skew the similarity calculations. (Does not seem to be the issue here, since normalization has been applied.)\n",
    "- **Embeddings Distribution:** If one of your documents has an embedding that is closer to the centroid of all embeddings, it might appear more relevant.\n",
    "- **Embedding Model Characteristics:** The embedding model might have a bias towards certain types of content, which can affect the similarity scores.\n",
    "\n",
    "Be sure to let me know if you know more. My contact info is in my CV 😁"
   ]
  }
 ],
 "metadata": {
  "kernelspec": {
   "display_name": "Python 3",
   "language": "python",
   "name": "python3"
  },
  "language_info": {
   "codemirror_mode": {
    "name": "ipython",
    "version": 3
   },
   "file_extension": ".py",
   "mimetype": "text/x-python",
   "name": "python",
   "nbconvert_exporter": "python",
   "pygments_lexer": "ipython3",
   "version": "3.12.1"
  }
 },
 "nbformat": 4,
 "nbformat_minor": 2
}
